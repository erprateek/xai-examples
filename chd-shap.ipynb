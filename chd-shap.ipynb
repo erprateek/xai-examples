{
 "cells": [
  {
   "cell_type": "code",
   "execution_count": null,
   "id": "66886a81",
   "metadata": {},
   "outputs": [],
   "source": [
    "import shap\n",
    "import xgboost as xgb\n",
    "from sklearn.datasets import fetch_california_housing\n",
    "from sklearn.model_selection import train_test_split\n",
    "\n",
    "# Load dataset\n",
    "data = fetch_california_housing(as_frame=True)\n",
    "X = data.data\n",
    "y = data.target\n",
    "\n",
    "# Train-test split\n",
    "X_train, X_test, y_train, y_test = train_test_split(X, y, test_size=0.2, random_state=42)\n",
    "\n",
    "# Train XGBoost model\n",
    "model = xgb.XGBRegressor(n_estimators=100, max_depth=4, learning_rate=0.1)\n",
    "model.fit(X_train, y_train)\n",
    "\n",
    "# Create SHAP explainer\n",
    "explainer = shap.Explainer(model, X_train)\n",
    "\n",
    "# Compute SHAP values\n",
    "shap_values = explainer(X_test)\n",
    "\n",
    "# Plot summary\n",
    "shap.summary_plot(shap_values, X_test)\n",
    "\n",
    "# Force plot for individual prediction\n",
    "shap.initjs()\n",
    "shap.force_plot(\n",
    "    base_value=explainer.expected_value,\n",
    "    shap_values=shap_values.values[0],       # Raw SHAP values for first sample\n",
    "    features=X_test.iloc[0],                 # Raw feature values for that sample\n",
    "    feature_names=X_test.columns\n",
    ")"
   ]
  }
 ],
 "metadata": {
  "language_info": {
   "name": "python"
  }
 },
 "nbformat": 4,
 "nbformat_minor": 5
}
